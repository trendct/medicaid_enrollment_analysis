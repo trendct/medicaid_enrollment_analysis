{
 "cells": [
  {
   "cell_type": "markdown",
   "metadata": {},
   "source": [
    "# Husky Enrollment by town\n",
    "\n",
    "Analysis started Friday, March 18, 2016.\n",
    "\n",
    "## 0 Data import\n",
    "\n",
    "### 0.A Import Husky sheet"
   ]
  },
  {
   "cell_type": "code",
   "execution_count": 198,
   "metadata": {
    "collapsed": false
   },
   "outputs": [
    {
     "data": {
      "text/plain": [
       "town                170\n",
       "population          170\n",
       "husky_enrollment    170\n",
       "husky_pct           170\n",
       "dtype: int64"
      ]
     },
     "execution_count": 198,
     "metadata": {},
     "output_type": "execute_result"
    }
   ],
   "source": [
    "import pandas as pd\n",
    "\n",
    "## Load HUSKY A tab, skipping header lines\n",
    "husky = pd.read_excel(\"HUSKYA and Medicaid by Town with %.xls\",\n",
    "                           sheetname=0,\n",
    "                           skiprows=6, \n",
    "                           names=[\"town\",\"population\",\"husky_enrollment\",\"husky_pct_enrollment\"])\n",
    "\n",
    "## (Uncomment below) Check that their calculated enrollment percent matches my own (should equal zero)\n",
    "#husky[\"calculated_pct\"] = husky[\"enrollment\"] / husky[\"population\"]\n",
    "#husky[\"calculated_pct\"].sum() - husky[\"pct_enrollment\"].sum()\n",
    "\n",
    "\n",
    "## Add a column for a human-friendly percent\n",
    "husky[\"husky_pct\"] = husky[\"husky_pct_enrollment\"] * 100\n",
    "\n",
    "## Drop origin percent col\n",
    "husky = husky.drop([\"husky_pct_enrollment\"], 1)\n",
    "\n",
    "## (Uncomment below) Describe the dataset\n",
    "#husky.describe()\n",
    "\n",
    "## (Uncomment below) Count rows\n",
    "husky.count()"
   ]
  },
  {
   "cell_type": "markdown",
   "metadata": {},
   "source": [
    "### 0.b Import Medicaid sheet"
   ]
  },
  {
   "cell_type": "code",
   "execution_count": 199,
   "metadata": {
    "collapsed": false
   },
   "outputs": [
    {
     "data": {
      "text/plain": [
       "town              170\n",
       "population        170\n",
       "med_enrollment    170\n",
       "med_pct           170\n",
       "dtype: int64"
      ]
     },
     "execution_count": 199,
     "metadata": {},
     "output_type": "execute_result"
    }
   ],
   "source": [
    "## Load Sheet 2\n",
    "medicaid = pd.read_excel(\"HUSKYA and Medicaid by Town with %.xls\",\n",
    "                         sheetname=\"Medicaid Enrollment by Town\",\n",
    "                         skiprows=4,\n",
    "                         names=[\"town\",\"population\",\"med_enrollment\",\"drop\",\"med_pct\"])\n",
    "\n",
    "## fourth column is empty\n",
    "medicaid = medicaid.drop(\"drop\",1)\n",
    "\n",
    "## drop null rows\n",
    "medicaid = medicaid[medicaid[\"population\"].notnull()]\n",
    "\n",
    "\n",
    "## Check that their percentages are correct\n",
    "#medicaid[\"calculated_pct\"] = medicaid[\"med_enrollment\"] / medicaid[\"population\"]\n",
    "#medicaid[\"calculated_pct\"].sum() - medicaid[\"med_pct\"].sum()\n",
    "\n",
    "## Add a human-readable percent column\n",
    "medicaid[\"med_pct\"] = medicaid[\"med_pct\"] * 100\n",
    "\n",
    "## Drop original percent column\n",
    "#medicaid = medicaid.drop(\"med_pct\", 1)\n",
    "\n",
    "## (Uncomment below) Count rows\n",
    "medicaid.count()"
   ]
  },
  {
   "cell_type": "markdown",
   "metadata": {},
   "source": [
    "### Merge sheets"
   ]
  },
  {
   "cell_type": "code",
   "execution_count": 200,
   "metadata": {
    "collapsed": false
   },
   "outputs": [
    {
     "data": {
      "text/plain": [
       "town                169\n",
       "population          169\n",
       "med_enrollment      169\n",
       "med_pct             169\n",
       "husky_enrollment    169\n",
       "husky_pct           169\n",
       "dtype: int64"
      ]
     },
     "execution_count": 200,
     "metadata": {},
     "output_type": "execute_result"
    }
   ],
   "source": [
    "combined = medicaid.merge(husky,on=[\"town\",\"population\"])\n",
    "\n",
    "## Count rows. Should have the same # no of rows as medicaid and husky\n",
    "combined.count()"
   ]
  },
  {
   "cell_type": "code",
   "execution_count": 201,
   "metadata": {
    "collapsed": false
   },
   "outputs": [],
   "source": [
    "## Something went wrong. Let's find the row that didn't synch\n",
    "\n",
    "## Rows in husky but not in combined\n",
    "#husky[~husky[\"town\"].isin(combined[\"town\"])]\n",
    "\n",
    "## Rows in medicaid but not in combined\n",
    "#medicaid[~medicaid[\"town\"].isin(combined[\"town\"])]\n"
   ]
  },
  {
   "cell_type": "code",
   "execution_count": 202,
   "metadata": {
    "collapsed": false
   },
   "outputs": [
    {
     "data": {
      "text/plain": [
       "town                170\n",
       "population          170\n",
       "med_enrollment      170\n",
       "med_pct             170\n",
       "husky_enrollment    170\n",
       "husky_pct           170\n",
       "dtype: int64"
      ]
     },
     "execution_count": 202,
     "metadata": {},
     "output_type": "execute_result"
    }
   ],
   "source": [
    "## North stonington is the problem. It's entered both as \"No. Stonington\" and \"North Stonington\"\n",
    "medicaid = medicaid.replace(\"No. Stonington\", \"North Stonington\")\n",
    "\n",
    "\n",
    "## Try merge again\n",
    "combined = medicaid.merge(husky,on=[\"town\",\"population\"])\n",
    "\n",
    "## Count rows. Should have the same # no of rows as medicaid and husky\n",
    "combined.count()"
   ]
  },
  {
   "cell_type": "code",
   "execution_count": 203,
   "metadata": {
    "collapsed": false
   },
   "outputs": [],
   "source": [
    "## Good! Moving on..."
   ]
  },
  {
   "cell_type": "markdown",
   "metadata": {},
   "source": [
    "## 1 Towns with the highest enrollment\n",
    "\n",
    "Canaan has a population of 1,195, so the percentage each resident accounts for is significantly higher than the other places on the list. We'll look just at towns with populations over 5,000\n",
    "\n",
    "### 1.a Top medicaid enrollment"
   ]
  },
  {
   "cell_type": "markdown",
   "metadata": {},
   "source": [
    "Canaan has a population of 1,195, so the percentage each resident accounts for is significantly higher than the other places on the list."
   ]
  },
  {
   "cell_type": "code",
   "execution_count": 211,
   "metadata": {
    "collapsed": false
   },
   "outputs": [
    {
     "data": {
      "text/html": [
       "<div>\n",
       "<table border=\"1\" class=\"dataframe\">\n",
       "  <thead>\n",
       "    <tr style=\"text-align: right;\">\n",
       "      <th></th>\n",
       "      <th>town</th>\n",
       "      <th>population</th>\n",
       "      <th>med_enrollment</th>\n",
       "      <th>med_pct</th>\n",
       "      <th>husky_enrollment</th>\n",
       "      <th>husky_pct</th>\n",
       "    </tr>\n",
       "  </thead>\n",
       "  <tbody>\n",
       "    <tr>\n",
       "      <th>63</th>\n",
       "      <td>Hartford</td>\n",
       "      <td>124705</td>\n",
       "      <td>71755</td>\n",
       "      <td>57.539794</td>\n",
       "      <td>39917</td>\n",
       "      <td>32.009142</td>\n",
       "    </tr>\n",
       "    <tr>\n",
       "      <th>150</th>\n",
       "      <td>Waterbury</td>\n",
       "      <td>109307</td>\n",
       "      <td>55828</td>\n",
       "      <td>51.074497</td>\n",
       "      <td>33099</td>\n",
       "      <td>30.280769</td>\n",
       "    </tr>\n",
       "    <tr>\n",
       "      <th>88</th>\n",
       "      <td>New Britain</td>\n",
       "      <td>72878</td>\n",
       "      <td>34049</td>\n",
       "      <td>46.720547</td>\n",
       "      <td>20398</td>\n",
       "      <td>27.989242</td>\n",
       "    </tr>\n",
       "    <tr>\n",
       "      <th>14</th>\n",
       "      <td>Bridgeport</td>\n",
       "      <td>147612</td>\n",
       "      <td>66854</td>\n",
       "      <td>45.290356</td>\n",
       "      <td>40457</td>\n",
       "      <td>27.407663</td>\n",
       "    </tr>\n",
       "    <tr>\n",
       "      <th>92</th>\n",
       "      <td>New Haven</td>\n",
       "      <td>130282</td>\n",
       "      <td>56711</td>\n",
       "      <td>43.529421</td>\n",
       "      <td>31913</td>\n",
       "      <td>24.495326</td>\n",
       "    </tr>\n",
       "    <tr>\n",
       "      <th>93</th>\n",
       "      <td>New London</td>\n",
       "      <td>27374</td>\n",
       "      <td>11716</td>\n",
       "      <td>42.799737</td>\n",
       "      <td>6830</td>\n",
       "      <td>24.950683</td>\n",
       "    </tr>\n",
       "    <tr>\n",
       "      <th>162</th>\n",
       "      <td>Windham</td>\n",
       "      <td>25005</td>\n",
       "      <td>10163</td>\n",
       "      <td>40.643871</td>\n",
       "      <td>5682</td>\n",
       "      <td>22.723455</td>\n",
       "    </tr>\n",
       "    <tr>\n",
       "      <th>103</th>\n",
       "      <td>Norwich</td>\n",
       "      <td>40178</td>\n",
       "      <td>15467</td>\n",
       "      <td>38.496192</td>\n",
       "      <td>9106</td>\n",
       "      <td>22.664145</td>\n",
       "    </tr>\n",
       "    <tr>\n",
       "      <th>41</th>\n",
       "      <td>East Hartford</td>\n",
       "      <td>51033</td>\n",
       "      <td>19261</td>\n",
       "      <td>37.742245</td>\n",
       "      <td>11487</td>\n",
       "      <td>22.508965</td>\n",
       "    </tr>\n",
       "    <tr>\n",
       "      <th>79</th>\n",
       "      <td>Meriden</td>\n",
       "      <td>60293</td>\n",
       "      <td>22091</td>\n",
       "      <td>36.639411</td>\n",
       "      <td>13079</td>\n",
       "      <td>21.692402</td>\n",
       "    </tr>\n",
       "  </tbody>\n",
       "</table>\n",
       "</div>"
      ],
      "text/plain": [
       "              town  population  med_enrollment    med_pct  husky_enrollment  \\\n",
       "63        Hartford      124705           71755  57.539794             39917   \n",
       "150      Waterbury      109307           55828  51.074497             33099   \n",
       "88     New Britain       72878           34049  46.720547             20398   \n",
       "14      Bridgeport      147612           66854  45.290356             40457   \n",
       "92       New Haven      130282           56711  43.529421             31913   \n",
       "93      New London       27374           11716  42.799737              6830   \n",
       "162        Windham       25005           10163  40.643871              5682   \n",
       "103        Norwich       40178           15467  38.496192              9106   \n",
       "41   East Hartford       51033           19261  37.742245             11487   \n",
       "79         Meriden       60293           22091  36.639411             13079   \n",
       "\n",
       "     husky_pct  \n",
       "63   32.009142  \n",
       "150  30.280769  \n",
       "88   27.989242  \n",
       "14   27.407663  \n",
       "92   24.495326  \n",
       "93   24.950683  \n",
       "162  22.723455  \n",
       "103  22.664145  \n",
       "41   22.508965  \n",
       "79   21.692402  "
      ]
     },
     "execution_count": 211,
     "metadata": {},
     "output_type": "execute_result"
    }
   ],
   "source": [
    "combined[combined[\"population\"] > 5000].sort_values(\"med_pct\", ascending=False).head(10)"
   ]
  },
  {
   "cell_type": "markdown",
   "metadata": {},
   "source": [
    "### 1.b Top husky enrollment"
   ]
  },
  {
   "cell_type": "code",
   "execution_count": 212,
   "metadata": {
    "collapsed": false
   },
   "outputs": [
    {
     "data": {
      "text/html": [
       "<div>\n",
       "<table border=\"1\" class=\"dataframe\">\n",
       "  <thead>\n",
       "    <tr style=\"text-align: right;\">\n",
       "      <th></th>\n",
       "      <th>town</th>\n",
       "      <th>population</th>\n",
       "      <th>med_enrollment</th>\n",
       "      <th>med_pct</th>\n",
       "      <th>husky_enrollment</th>\n",
       "      <th>husky_pct</th>\n",
       "    </tr>\n",
       "  </thead>\n",
       "  <tbody>\n",
       "    <tr>\n",
       "      <th>63</th>\n",
       "      <td>Hartford</td>\n",
       "      <td>124705</td>\n",
       "      <td>71755</td>\n",
       "      <td>57.539794</td>\n",
       "      <td>39917</td>\n",
       "      <td>32.009142</td>\n",
       "    </tr>\n",
       "    <tr>\n",
       "      <th>150</th>\n",
       "      <td>Waterbury</td>\n",
       "      <td>109307</td>\n",
       "      <td>55828</td>\n",
       "      <td>51.074497</td>\n",
       "      <td>33099</td>\n",
       "      <td>30.280769</td>\n",
       "    </tr>\n",
       "    <tr>\n",
       "      <th>88</th>\n",
       "      <td>New Britain</td>\n",
       "      <td>72878</td>\n",
       "      <td>34049</td>\n",
       "      <td>46.720547</td>\n",
       "      <td>20398</td>\n",
       "      <td>27.989242</td>\n",
       "    </tr>\n",
       "    <tr>\n",
       "      <th>14</th>\n",
       "      <td>Bridgeport</td>\n",
       "      <td>147612</td>\n",
       "      <td>66854</td>\n",
       "      <td>45.290356</td>\n",
       "      <td>40457</td>\n",
       "      <td>27.407663</td>\n",
       "    </tr>\n",
       "    <tr>\n",
       "      <th>93</th>\n",
       "      <td>New London</td>\n",
       "      <td>27374</td>\n",
       "      <td>11716</td>\n",
       "      <td>42.799737</td>\n",
       "      <td>6830</td>\n",
       "      <td>24.950683</td>\n",
       "    </tr>\n",
       "    <tr>\n",
       "      <th>92</th>\n",
       "      <td>New Haven</td>\n",
       "      <td>130282</td>\n",
       "      <td>56711</td>\n",
       "      <td>43.529421</td>\n",
       "      <td>31913</td>\n",
       "      <td>24.495326</td>\n",
       "    </tr>\n",
       "    <tr>\n",
       "      <th>162</th>\n",
       "      <td>Windham</td>\n",
       "      <td>25005</td>\n",
       "      <td>10163</td>\n",
       "      <td>40.643871</td>\n",
       "      <td>5682</td>\n",
       "      <td>22.723455</td>\n",
       "    </tr>\n",
       "    <tr>\n",
       "      <th>103</th>\n",
       "      <td>Norwich</td>\n",
       "      <td>40178</td>\n",
       "      <td>15467</td>\n",
       "      <td>38.496192</td>\n",
       "      <td>9106</td>\n",
       "      <td>22.664145</td>\n",
       "    </tr>\n",
       "    <tr>\n",
       "      <th>41</th>\n",
       "      <td>East Hartford</td>\n",
       "      <td>51033</td>\n",
       "      <td>19261</td>\n",
       "      <td>37.742245</td>\n",
       "      <td>11487</td>\n",
       "      <td>22.508965</td>\n",
       "    </tr>\n",
       "    <tr>\n",
       "      <th>79</th>\n",
       "      <td>Meriden</td>\n",
       "      <td>60293</td>\n",
       "      <td>22091</td>\n",
       "      <td>36.639411</td>\n",
       "      <td>13079</td>\n",
       "      <td>21.692402</td>\n",
       "    </tr>\n",
       "  </tbody>\n",
       "</table>\n",
       "</div>"
      ],
      "text/plain": [
       "              town  population  med_enrollment    med_pct  husky_enrollment  \\\n",
       "63        Hartford      124705           71755  57.539794             39917   \n",
       "150      Waterbury      109307           55828  51.074497             33099   \n",
       "88     New Britain       72878           34049  46.720547             20398   \n",
       "14      Bridgeport      147612           66854  45.290356             40457   \n",
       "93      New London       27374           11716  42.799737              6830   \n",
       "92       New Haven      130282           56711  43.529421             31913   \n",
       "162        Windham       25005           10163  40.643871              5682   \n",
       "103        Norwich       40178           15467  38.496192              9106   \n",
       "41   East Hartford       51033           19261  37.742245             11487   \n",
       "79         Meriden       60293           22091  36.639411             13079   \n",
       "\n",
       "     husky_pct  \n",
       "63   32.009142  \n",
       "150  30.280769  \n",
       "88   27.989242  \n",
       "14   27.407663  \n",
       "93   24.950683  \n",
       "92   24.495326  \n",
       "162  22.723455  \n",
       "103  22.664145  \n",
       "41   22.508965  \n",
       "79   21.692402  "
      ]
     },
     "execution_count": 212,
     "metadata": {},
     "output_type": "execute_result"
    }
   ],
   "source": [
    "combined[combined[\"population\"] > 5000].sort_values(\"husky_pct\", ascending=False).head(10)"
   ]
  },
  {
   "cell_type": "code",
   "execution_count": 220,
   "metadata": {
    "collapsed": false
   },
   "outputs": [
    {
     "data": {
      "text/html": [
       "<div>\n",
       "<table border=\"1\" class=\"dataframe\">\n",
       "  <thead>\n",
       "    <tr style=\"text-align: right;\">\n",
       "      <th></th>\n",
       "      <th>population</th>\n",
       "      <th>med_enrollment</th>\n",
       "      <th>med_pct</th>\n",
       "      <th>husky_enrollment</th>\n",
       "      <th>husky_pct</th>\n",
       "      <th>husky_share</th>\n",
       "    </tr>\n",
       "  </thead>\n",
       "  <tbody>\n",
       "    <tr>\n",
       "      <th>count</th>\n",
       "      <td>170.000000</td>\n",
       "      <td>170.000000</td>\n",
       "      <td>170.000000</td>\n",
       "      <td>170.000000</td>\n",
       "      <td>170.000000</td>\n",
       "      <td>170.000000</td>\n",
       "    </tr>\n",
       "    <tr>\n",
       "      <th>mean</th>\n",
       "      <td>42313.847059</td>\n",
       "      <td>9690.200000</td>\n",
       "      <td>16.583130</td>\n",
       "      <td>5483.376471</td>\n",
       "      <td>9.188307</td>\n",
       "      <td>54.339931</td>\n",
       "    </tr>\n",
       "    <tr>\n",
       "      <th>std</th>\n",
       "      <td>275407.148728</td>\n",
       "      <td>63679.145467</td>\n",
       "      <td>10.220578</td>\n",
       "      <td>36057.610465</td>\n",
       "      <td>6.085087</td>\n",
       "      <td>6.209408</td>\n",
       "    </tr>\n",
       "    <tr>\n",
       "      <th>min</th>\n",
       "      <td>846.000000</td>\n",
       "      <td>64.000000</td>\n",
       "      <td>3.715826</td>\n",
       "      <td>34.000000</td>\n",
       "      <td>1.905090</td>\n",
       "      <td>28.302676</td>\n",
       "    </tr>\n",
       "    <tr>\n",
       "      <th>25%</th>\n",
       "      <td>5473.250000</td>\n",
       "      <td>683.250000</td>\n",
       "      <td>9.694484</td>\n",
       "      <td>347.500000</td>\n",
       "      <td>5.097916</td>\n",
       "      <td>50.191141</td>\n",
       "    </tr>\n",
       "    <tr>\n",
       "      <th>50%</th>\n",
       "      <td>12821.000000</td>\n",
       "      <td>1477.000000</td>\n",
       "      <td>13.902793</td>\n",
       "      <td>756.000000</td>\n",
       "      <td>7.337486</td>\n",
       "      <td>54.551823</td>\n",
       "    </tr>\n",
       "    <tr>\n",
       "      <th>75%</th>\n",
       "      <td>25938.500000</td>\n",
       "      <td>3960.500000</td>\n",
       "      <td>19.562850</td>\n",
       "      <td>2113.500000</td>\n",
       "      <td>11.331514</td>\n",
       "      <td>58.729329</td>\n",
       "    </tr>\n",
       "    <tr>\n",
       "      <th>max</th>\n",
       "      <td>3596677.000000</td>\n",
       "      <td>823867.000000</td>\n",
       "      <td>63.598326</td>\n",
       "      <td>466087.000000</td>\n",
       "      <td>32.887029</td>\n",
       "      <td>69.834711</td>\n",
       "    </tr>\n",
       "  </tbody>\n",
       "</table>\n",
       "</div>"
      ],
      "text/plain": [
       "           population  med_enrollment     med_pct  husky_enrollment  \\\n",
       "count      170.000000      170.000000  170.000000        170.000000   \n",
       "mean     42313.847059     9690.200000   16.583130       5483.376471   \n",
       "std     275407.148728    63679.145467   10.220578      36057.610465   \n",
       "min        846.000000       64.000000    3.715826         34.000000   \n",
       "25%       5473.250000      683.250000    9.694484        347.500000   \n",
       "50%      12821.000000     1477.000000   13.902793        756.000000   \n",
       "75%      25938.500000     3960.500000   19.562850       2113.500000   \n",
       "max    3596677.000000   823867.000000   63.598326     466087.000000   \n",
       "\n",
       "        husky_pct  husky_share  \n",
       "count  170.000000   170.000000  \n",
       "mean     9.188307    54.339931  \n",
       "std      6.085087     6.209408  \n",
       "min      1.905090    28.302676  \n",
       "25%      5.097916    50.191141  \n",
       "50%      7.337486    54.551823  \n",
       "75%     11.331514    58.729329  \n",
       "max     32.887029    69.834711  "
      ]
     },
     "execution_count": 220,
     "metadata": {},
     "output_type": "execute_result"
    }
   ],
   "source": [
    "# Add a column for the share of the husky program \n",
    "combined[\"husky_share\"] = combined[\"husky_enrollment\"] * 100 / combined[\"med_enrollment\"]\n",
    "\n",
    "combined.describe()"
   ]
  },
  {
   "cell_type": "markdown",
   "metadata": {},
   "source": [
    "### 1.c Town's with the largest share of Husky A enrollment vs. overall medicaid program"
   ]
  },
  {
   "cell_type": "code",
   "execution_count": 221,
   "metadata": {
    "collapsed": false
   },
   "outputs": [
    {
     "data": {
      "text/html": [
       "<div>\n",
       "<table border=\"1\" class=\"dataframe\">\n",
       "  <thead>\n",
       "    <tr style=\"text-align: right;\">\n",
       "      <th></th>\n",
       "      <th>town</th>\n",
       "      <th>population</th>\n",
       "      <th>med_enrollment</th>\n",
       "      <th>med_pct</th>\n",
       "      <th>husky_enrollment</th>\n",
       "      <th>husky_pct</th>\n",
       "      <th>husky_share</th>\n",
       "    </tr>\n",
       "  </thead>\n",
       "  <tbody>\n",
       "    <tr>\n",
       "      <th>33</th>\n",
       "      <td>Danbury</td>\n",
       "      <td>83784</td>\n",
       "      <td>20632</td>\n",
       "      <td>24.625227</td>\n",
       "      <td>13394</td>\n",
       "      <td>15.986346</td>\n",
       "      <td>64.918573</td>\n",
       "    </tr>\n",
       "    <tr>\n",
       "      <th>116</th>\n",
       "      <td>Redding</td>\n",
       "      <td>9309</td>\n",
       "      <td>485</td>\n",
       "      <td>5.210012</td>\n",
       "      <td>311</td>\n",
       "      <td>3.340853</td>\n",
       "      <td>64.123711</td>\n",
       "    </tr>\n",
       "    <tr>\n",
       "      <th>71</th>\n",
       "      <td>Ledyard</td>\n",
       "      <td>15121</td>\n",
       "      <td>2192</td>\n",
       "      <td>14.496396</td>\n",
       "      <td>1405</td>\n",
       "      <td>9.291714</td>\n",
       "      <td>64.096715</td>\n",
       "    </tr>\n",
       "    <tr>\n",
       "      <th>168</th>\n",
       "      <td>Woodstock</td>\n",
       "      <td>7860</td>\n",
       "      <td>1062</td>\n",
       "      <td>13.511450</td>\n",
       "      <td>674</td>\n",
       "      <td>8.575064</td>\n",
       "      <td>63.465160</td>\n",
       "    </tr>\n",
       "    <tr>\n",
       "      <th>21</th>\n",
       "      <td>Canterbury</td>\n",
       "      <td>5088</td>\n",
       "      <td>930</td>\n",
       "      <td>18.278302</td>\n",
       "      <td>586</td>\n",
       "      <td>11.517296</td>\n",
       "      <td>63.010753</td>\n",
       "    </tr>\n",
       "    <tr>\n",
       "      <th>19</th>\n",
       "      <td>Burlington</td>\n",
       "      <td>9576</td>\n",
       "      <td>738</td>\n",
       "      <td>7.706767</td>\n",
       "      <td>465</td>\n",
       "      <td>4.855890</td>\n",
       "      <td>63.008130</td>\n",
       "    </tr>\n",
       "    <tr>\n",
       "      <th>57</th>\n",
       "      <td>Griswold</td>\n",
       "      <td>11916</td>\n",
       "      <td>3012</td>\n",
       "      <td>25.276939</td>\n",
       "      <td>1895</td>\n",
       "      <td>15.902988</td>\n",
       "      <td>62.915007</td>\n",
       "    </tr>\n",
       "    <tr>\n",
       "      <th>1</th>\n",
       "      <td>Ansonia</td>\n",
       "      <td>18959</td>\n",
       "      <td>6099</td>\n",
       "      <td>32.169418</td>\n",
       "      <td>3810</td>\n",
       "      <td>20.095997</td>\n",
       "      <td>62.469257</td>\n",
       "    </tr>\n",
       "    <tr>\n",
       "      <th>87</th>\n",
       "      <td>Naugatuck</td>\n",
       "      <td>31659</td>\n",
       "      <td>8268</td>\n",
       "      <td>26.115796</td>\n",
       "      <td>5144</td>\n",
       "      <td>16.248144</td>\n",
       "      <td>62.215772</td>\n",
       "    </tr>\n",
       "    <tr>\n",
       "      <th>101</th>\n",
       "      <td>North Stonington</td>\n",
       "      <td>5288</td>\n",
       "      <td>726</td>\n",
       "      <td>13.729198</td>\n",
       "      <td>450</td>\n",
       "      <td>8.509834</td>\n",
       "      <td>61.983471</td>\n",
       "    </tr>\n",
       "  </tbody>\n",
       "</table>\n",
       "</div>"
      ],
      "text/plain": [
       "                 town  population  med_enrollment    med_pct  \\\n",
       "33            Danbury       83784           20632  24.625227   \n",
       "116           Redding        9309             485   5.210012   \n",
       "71            Ledyard       15121            2192  14.496396   \n",
       "168         Woodstock        7860            1062  13.511450   \n",
       "21         Canterbury        5088             930  18.278302   \n",
       "19         Burlington        9576             738   7.706767   \n",
       "57           Griswold       11916            3012  25.276939   \n",
       "1             Ansonia       18959            6099  32.169418   \n",
       "87          Naugatuck       31659            8268  26.115796   \n",
       "101  North Stonington        5288             726  13.729198   \n",
       "\n",
       "     husky_enrollment  husky_pct  husky_share  \n",
       "33              13394  15.986346    64.918573  \n",
       "116               311   3.340853    64.123711  \n",
       "71               1405   9.291714    64.096715  \n",
       "168               674   8.575064    63.465160  \n",
       "21                586  11.517296    63.010753  \n",
       "19                465   4.855890    63.008130  \n",
       "57               1895  15.902988    62.915007  \n",
       "1                3810  20.095997    62.469257  \n",
       "87               5144  16.248144    62.215772  \n",
       "101               450   8.509834    61.983471  "
      ]
     },
     "execution_count": 221,
     "metadata": {},
     "output_type": "execute_result"
    }
   ],
   "source": [
    "combined[combined[\"population\"] > 5000].sort_values(\"husky_share\", ascending=False).head(10)"
   ]
  },
  {
   "cell_type": "markdown",
   "metadata": {},
   "source": [
    "### 1.c Town's with the smallest share of Husky A enrollment vs. overall medicaid program\n"
   ]
  },
  {
   "cell_type": "code",
   "execution_count": 223,
   "metadata": {
    "collapsed": false
   },
   "outputs": [
    {
     "data": {
      "text/html": [
       "<div>\n",
       "<table border=\"1\" class=\"dataframe\">\n",
       "  <thead>\n",
       "    <tr style=\"text-align: right;\">\n",
       "      <th></th>\n",
       "      <th>town</th>\n",
       "      <th>population</th>\n",
       "      <th>med_enrollment</th>\n",
       "      <th>med_pct</th>\n",
       "      <th>husky_enrollment</th>\n",
       "      <th>husky_pct</th>\n",
       "      <th>husky_share</th>\n",
       "    </tr>\n",
       "  </thead>\n",
       "  <tbody>\n",
       "    <tr>\n",
       "      <th>130</th>\n",
       "      <td>Southbury</td>\n",
       "      <td>19881</td>\n",
       "      <td>2392</td>\n",
       "      <td>12.031588</td>\n",
       "      <td>677</td>\n",
       "      <td>3.405261</td>\n",
       "      <td>28.302676</td>\n",
       "    </tr>\n",
       "    <tr>\n",
       "      <th>160</th>\n",
       "      <td>Wilton</td>\n",
       "      <td>18692</td>\n",
       "      <td>1104</td>\n",
       "      <td>5.906270</td>\n",
       "      <td>436</td>\n",
       "      <td>2.332549</td>\n",
       "      <td>39.492754</td>\n",
       "    </tr>\n",
       "    <tr>\n",
       "      <th>3</th>\n",
       "      <td>Avon</td>\n",
       "      <td>18421</td>\n",
       "      <td>1208</td>\n",
       "      <td>6.557733</td>\n",
       "      <td>512</td>\n",
       "      <td>2.779437</td>\n",
       "      <td>42.384106</td>\n",
       "    </tr>\n",
       "    <tr>\n",
       "      <th>155</th>\n",
       "      <td>Westbrook</td>\n",
       "      <td>6902</td>\n",
       "      <td>1069</td>\n",
       "      <td>15.488264</td>\n",
       "      <td>454</td>\n",
       "      <td>6.577804</td>\n",
       "      <td>42.469598</td>\n",
       "    </tr>\n",
       "    <tr>\n",
       "      <th>7</th>\n",
       "      <td>Bethany</td>\n",
       "      <td>5531</td>\n",
       "      <td>419</td>\n",
       "      <td>7.575484</td>\n",
       "      <td>181</td>\n",
       "      <td>3.272464</td>\n",
       "      <td>43.198091</td>\n",
       "    </tr>\n",
       "    <tr>\n",
       "      <th>24</th>\n",
       "      <td>Cheshire</td>\n",
       "      <td>29250</td>\n",
       "      <td>2504</td>\n",
       "      <td>8.560684</td>\n",
       "      <td>1088</td>\n",
       "      <td>3.719658</td>\n",
       "      <td>43.450479</td>\n",
       "    </tr>\n",
       "    <tr>\n",
       "      <th>51</th>\n",
       "      <td>Farmington</td>\n",
       "      <td>25627</td>\n",
       "      <td>2726</td>\n",
       "      <td>10.637219</td>\n",
       "      <td>1193</td>\n",
       "      <td>4.655246</td>\n",
       "      <td>43.763756</td>\n",
       "    </tr>\n",
       "    <tr>\n",
       "      <th>118</th>\n",
       "      <td>Rocky Hill</td>\n",
       "      <td>20094</td>\n",
       "      <td>2602</td>\n",
       "      <td>12.949139</td>\n",
       "      <td>1142</td>\n",
       "      <td>5.683289</td>\n",
       "      <td>43.889316</td>\n",
       "    </tr>\n",
       "    <tr>\n",
       "      <th>114</th>\n",
       "      <td>Prospect</td>\n",
       "      <td>9723</td>\n",
       "      <td>1256</td>\n",
       "      <td>12.917824</td>\n",
       "      <td>560</td>\n",
       "      <td>5.759539</td>\n",
       "      <td>44.585987</td>\n",
       "    </tr>\n",
       "    <tr>\n",
       "      <th>10</th>\n",
       "      <td>Bloomfield</td>\n",
       "      <td>20819</td>\n",
       "      <td>4894</td>\n",
       "      <td>23.507373</td>\n",
       "      <td>2185</td>\n",
       "      <td>10.495221</td>\n",
       "      <td>44.646506</td>\n",
       "    </tr>\n",
       "  </tbody>\n",
       "</table>\n",
       "</div>"
      ],
      "text/plain": [
       "           town  population  med_enrollment    med_pct  husky_enrollment  \\\n",
       "130   Southbury       19881            2392  12.031588               677   \n",
       "160      Wilton       18692            1104   5.906270               436   \n",
       "3          Avon       18421            1208   6.557733               512   \n",
       "155   Westbrook        6902            1069  15.488264               454   \n",
       "7       Bethany        5531             419   7.575484               181   \n",
       "24     Cheshire       29250            2504   8.560684              1088   \n",
       "51   Farmington       25627            2726  10.637219              1193   \n",
       "118  Rocky Hill       20094            2602  12.949139              1142   \n",
       "114    Prospect        9723            1256  12.917824               560   \n",
       "10   Bloomfield       20819            4894  23.507373              2185   \n",
       "\n",
       "     husky_pct  husky_share  \n",
       "130   3.405261    28.302676  \n",
       "160   2.332549    39.492754  \n",
       "3     2.779437    42.384106  \n",
       "155   6.577804    42.469598  \n",
       "7     3.272464    43.198091  \n",
       "24    3.719658    43.450479  \n",
       "51    4.655246    43.763756  \n",
       "118   5.683289    43.889316  \n",
       "114   5.759539    44.585987  \n",
       "10   10.495221    44.646506  "
      ]
     },
     "execution_count": 223,
     "metadata": {},
     "output_type": "execute_result"
    }
   ],
   "source": [
    "combined[combined[\"population\"] > 5000].sort_values(\"husky_share\", ascending=True).head(10)"
   ]
  },
  {
   "cell_type": "code",
   "execution_count": null,
   "metadata": {
    "collapsed": true
   },
   "outputs": [],
   "source": []
  },
  {
   "cell_type": "markdown",
   "metadata": {},
   "source": [
    "### 1.x Section conclusions\n",
    "\n",
    "The lists with the highest medicaid enrollment and the highest husky A enrollment are virtually identical, with only New London and New Haven switching positions."
   ]
  },
  {
   "cell_type": "markdown",
   "metadata": {},
   "source": [
    "## 2 Output for chart"
   ]
  },
  {
   "cell_type": "code",
   "execution_count": 32,
   "metadata": {
    "collapsed": false
   },
   "outputs": [],
   "source": []
  },
  {
   "cell_type": "code",
   "execution_count": 33,
   "metadata": {
    "collapsed": false
   },
   "outputs": [
    {
     "name": "stdout",
     "output_type": "stream",
     "text": [
      "HUSKYA and Medicaid by Town with %.xls  for_chart.csv\r\n",
      "Husky enrollment by town.ipynb\r\n"
     ]
    }
   ],
   "source": []
  },
  {
   "cell_type": "code",
   "execution_count": null,
   "metadata": {
    "collapsed": true
   },
   "outputs": [],
   "source": []
  }
 ],
 "metadata": {
  "kernelspec": {
   "display_name": "Python 2",
   "language": "python",
   "name": "python2"
  },
  "language_info": {
   "codemirror_mode": {
    "name": "ipython",
    "version": 2
   },
   "file_extension": ".py",
   "mimetype": "text/x-python",
   "name": "python",
   "nbconvert_exporter": "python",
   "pygments_lexer": "ipython2",
   "version": "2.7.11"
  }
 },
 "nbformat": 4,
 "nbformat_minor": 0
}
